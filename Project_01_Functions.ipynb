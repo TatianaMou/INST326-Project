{
  "nbformat": 4,
  "nbformat_minor": 0,
  "metadata": {
    "colab": {
      "provenance": [],
      "include_colab_link": true
    },
    "kernelspec": {
      "name": "python3",
      "display_name": "Python 3"
    },
    "language_info": {
      "name": "python"
    }
  },
  "cells": [
    {
      "cell_type": "markdown",
      "metadata": {
        "id": "view-in-github",
        "colab_type": "text"
      },
      "source": [
        "<a href=\"https://colab.research.google.com/github/TatianaMou/INST326-Project/blob/main/Project_01_Functions.ipynb\" target=\"_parent\"><img src=\"https://colab.research.google.com/assets/colab-badge.svg\" alt=\"Open In Colab\"/></a>"
      ]
    },
    {
      "cell_type": "markdown",
      "source": [
        "Variable List"
      ],
      "metadata": {
        "id": "msAURAuYR1Ti"
      }
    },
    {
      "cell_type": "markdown",
      "source": [
        "| Variable Name                | Description                                         | Example Value                                                                       |\n",
        "| ---------------------------- | --------------------------------------------------- | ----------------------------------------------------------------------------------- |\n",
        "| `patientid`                  | Unique identifier for each student or patient entry | `\"P001\"`                                                                            |\n",
        "| `firstname`                  | Patient’s first name                                | `\"Ada\"`                                                                             |\n",
        "| `lastname`                   | Patient’s last name                                 | `\"Lovelace\"`                                                                        |\n",
        "| `dob`                        | Date of birth in `YYYY-MM-DD` format                | `\"2000-01-01\"`                                                                      |\n",
        "| `doctorid`                   | Unique identifier for each doctor                   | `\"D001\"`                                                                            |\n",
        "| `docfirstname`               | Doctor’s first name                                 | `\"Jane\"`                                                                            |\n",
        "| `doclastname`                | Doctor’s last name                                  | `\"Doe\"`                                                                             |\n",
        "| `doctors`                    | Dictionary of doctor info (id, first, last)         | `{\"D001\": {\"docfirstname\":\"Jane\",\"doclastname\":\"Doe\"}}`                             |\n",
        "| `symptom_text`               | Raw symptom input from user                         | `\"sore throat, cough, fever\"`                                                       |\n",
        "| `symptoms`                   | Cleaned list parsed from `symptom_text`             | `[\"sore throat\", \"cough\", \"fever\"]`                                                 |\n",
        "| `severity`                   | `\"mild\"`, `\"moderate\"`, or `\"severe\"`               | `\"moderate\"`                                                                        |\n",
        "| `duration_days`              | Number of days symptoms have been present           | `3`                                                                                 |\n",
        "| `allergies`                  | List of known allergies                             | `[\"penicillin\"]`                                                                    |\n",
        "| `knowledge_base`             | Condition → symptoms/advice                         | `{\"Influenza\": {\"symptoms\":[\"fever\",\"cough\"], \"self_care\":\"rest\"}}`                 |\n",
        "| `alerts_rules`               | Simple rules for red-flag alerts                    | `{\"keywords\":[\"chest pain\"], \"long_duration_days\":3}`                               |\n",
        "| `ranked_conditions`          | Output from `rank_conditions_basic()`               | `[{\"condition\":\"Influenza\",\"score\":0.6,\"matched\":[\"fever\",\"cough\"]}]`               |\n",
        "| `patient_query`              | Output from `build_patient_query()`                 | `{\"patientid\":\"P001\", ... \"symptoms\":[\"cough\",\"fever\"]}`                            |\n",
        "| `alerts`                     | Output from `red_flag_alerts()`                     | `[\"Fever lasting more than 3 days…\"]`                                               |\n",
        "| `records`                    | List of patient record dicts for searching          | `[{\"firstname\":\"Ada\",\"lastname\":\"Lovelace\",\"notes\":\"fever and cough\"}]`             |\n",
        "| `keyword`                    | Search term for `search_patient_records()`          | `\"fever\"`                                                                           |\n",
        "| `matches` / `search_results` | Output list from `search_patient_records()`         | `[{\"firstname\":\"Ada\",\"lastname\":\"Lovelace\",\"notes\":\"fever and cough\"}]`             |\n",
        "| `conditions`                 | List of condition names to count                    | `[\"influenza\",\"cold\",\"influenza\"]`                                                  |\n",
        "| `condition_stats`            | Output from `summarize_condition_stats()`           | `{\"influenza\": 2, \"cold\": 1}`                                                       |\n",
        "| `patient`                    | Single patient dict for summary                     | `{\"firstname\":\"ada\",\"lastname\":\"lovelace\",\"dob\":\"2000-01-01\",\"symptoms\":[\"fever\"]}` |\n",
        "| `summary`                    | Output from `generate_patient_summary()`            | `\"Ada Lovelace (DOB: 2000-01-01) - Symptoms: fever\"`                                |\n",
        "| `log_list`                   | List of prior search queries                        | `[\"fever\",\"cold\"]`                                                                  |\n",
        "| `query`                      | New query to log                                    | `\"cough\"`                                                                           |\n"
      ],
      "metadata": {
        "id": "4VodwBWiTjy6"
      }
    },
    {
      "cell_type": "markdown",
      "source": [
        "Example Function:"
      ],
      "metadata": {
        "id": "3qa1yKwNQJfs"
      }
    },
    {
      "cell_type": "code",
      "execution_count": null,
      "metadata": {
        "id": "FvoVH9jIPMze"
      },
      "outputs": [],
      "source": [
        "def validate_isbn(isbn_string):\n",
        "    \"\"\"Validate an ISBN-10 or ISBN-13 number.\n",
        "\n",
        "    Args:\n",
        "        isbn_string (str): The ISBN to validate, with or without hyphens\n",
        "\n",
        "    Returns:\n",
        "        bool: True if valid ISBN, False otherwise\n",
        "\n",
        "    Raises:\n",
        "        TypeError: If isbn_string is not a string\n",
        "\n",
        "    Examples:\n",
        "        >>> validate_isbn(\"978-0-123456-47-9\")\n",
        "        True\n",
        "        >>> validate_isbn(\"invalid-isbn\")\n",
        "        False\n",
        "    \"\"\"\n",
        "    if not isinstance(isbn_string, str):\n",
        "        raise TypeError(\"ISBN must be a string\")\n",
        "\n",
        "    # Remove hyphens and spaces\n",
        "    clean_isbn = isbn_string.replace('-', '').replace(' ', '')\n",
        "\n",
        "    if len(clean_isbn) == 10:\n",
        "        return _validate_isbn10(clean_isbn)\n",
        "    elif len(clean_isbn) == 13:\n",
        "        return _validate_isbn13(clean_isbn)\n",
        "    else:\n",
        "        return False"
      ]
    },
    {
      "cell_type": "markdown",
      "source": [],
      "metadata": {
        "id": "lkhLBt7OUyja"
      }
    },
    {
      "cell_type": "markdown",
      "source": [
        "WIP Function 1: Calculate Patient's Age - Tatiana"
      ],
      "metadata": {
        "id": "ErXrPymiR1-m"
      }
    },
    {
      "cell_type": "code",
      "source": [
        "from datetime import datetime\n",
        "\n",
        "dob = \"2000-01-01\"\n",
        "\n",
        "def calculate_age(dob_str):\n",
        "\n",
        "  \"\"\"\n",
        "    Calculate the age of a patient using their date of birth.\n",
        "\n",
        "    Parameters:\n",
        "        dob_str (str): Date of birth as a string in \"YYYY-MM-DD\" format.\n",
        "\n",
        "    Returns:\n",
        "        int: The calculated age in years.\n",
        "\n",
        "    Raises:\n",
        "        ValueError: If the date format is incorrect.\n",
        "        ValueError: If the date is in the future.\n",
        "        ValueError: If the calculated age is not within a realistic range (0–130).\n",
        "    \"\"\"\n",
        "\n",
        "  try:\n",
        "    dob = datetime.strptime(dob_str, \"%Y-%m-%d\")\n",
        "  except ValueError:\n",
        "      raise ValueError(\"Date of birth must be in YYYY-MM-DD format.\")\n",
        "\n",
        "  today = datetime.today()\n",
        "\n",
        "#check if date of birth is realistic\n",
        "  if dob > today:\n",
        "    raise ValueError(\"Date of birth must be in the past or present.\")\n",
        "\n",
        " #calculate patient's age\n",
        "  age = today.year - dob.year - ((today.month, today.day) < (dob.month, dob.day))\n",
        "\n",
        "#check if age is realistic\n",
        "  if age > 130 or age < 0:\n",
        "    raise ValueError(\"Invalid age\")\n",
        "\n",
        "  return age\n",
        "\n",
        "age = calculate_age(dob)\n",
        "print(f\"Age: {age}\")"
      ],
      "metadata": {
        "colab": {
          "base_uri": "https://localhost:8080/"
        },
        "id": "W95wp3wuR4EM",
        "outputId": "24206bda-bd37-4996-aa03-5cffb65ea60f"
      },
      "execution_count": null,
      "outputs": [
        {
          "output_type": "stream",
          "name": "stdout",
          "text": [
            "Age: 25\n"
          ]
        }
      ]
    },
    {
      "cell_type": "markdown",
      "source": [
        "WIP Function 2: Print Doctor Information - Tatiana"
      ],
      "metadata": {
        "id": "oXDUCN9kX09d"
      }
    },
    {
      "cell_type": "code",
      "source": [
        "# Example data\n",
        "doctors = {\n",
        "    \"D001\": {\"first_name\": \"Jane\", \"last_name\": \"Doe\"},\n",
        "    \"D002\": {\"first_name\": \"Mary\", \"last_name\": \"Sue\"}\n",
        "}\n",
        "\n",
        "def doctorinformation(doctorid):\n",
        "\n",
        "      \"\"\"\n",
        "    Display information for the doctor matching the ID.\n",
        "\n",
        "    Args:\n",
        "        doctorid (str): The ID of the doctor used to look them up.\n",
        "\n",
        "    Returns:\n",
        "        None\n",
        "    \"\"\"\n",
        "\n",
        "    doctor = doctors.get(doctorid)\n",
        "    if doctor:\n",
        "        title = \"Doctor Information\"\n",
        "        line1 = f\"Doctor ID  : {doctorid}\"\n",
        "        line2 = f\"First Name : {doctor['first_name']}\"\n",
        "        line3 = f\"Last Name  : {doctor['last_name']}\"\n",
        "\n",
        "        #calculate max length to ensure accurate sized separator\n",
        "        max_length = max(len(title), len(line1), len(line2), len(line3))\n",
        "\n",
        "        print(title)\n",
        "        print(\"-\" * max_length)\n",
        "        print(line1)\n",
        "        print(line2)\n",
        "        print(line3)\n",
        "    else:\n",
        "        print(f\"No doctor found with ID: {doctorid}\")\n",
        "\n",
        "doctorinformation(\"D001\")\n"
      ],
      "metadata": {
        "id": "-1eecyG0PkWd",
        "colab": {
          "base_uri": "https://localhost:8080/"
        },
        "outputId": "6ad369b9-84e8-42a4-c607-efb863f80ebe"
      },
      "execution_count": null,
      "outputs": [
        {
          "output_type": "stream",
          "name": "stdout",
          "text": [
            "Doctor Information\n",
            "------------------\n",
            "Doctor ID  : D001\n",
            "First Name : Jane\n",
            "Last Name  : Doe\n"
          ]
        }
      ]
    },
    {
      "cell_type": "markdown",
      "source": [
        "WIP Function 3: Input New Doctor Information - Tatiana"
      ],
      "metadata": {
        "id": "NjnAmQIggiGT"
      }
    },
    {
      "cell_type": "code",
      "source": [
        "# Dictionary to store doctor records\n",
        "doctors = {}\n",
        "\n",
        "def input_new_doctor():\n",
        "\n",
        "      \"\"\"\n",
        "    Prompt the user to input and add a new doctor to the `doctors` dictionary.\n",
        "\n",
        "    Returns:\n",
        "        None\n",
        "    \"\"\"\n",
        "\n",
        "    doctorid = input(\"Enter Doctor ID: \").strip()\n",
        "\n",
        "    # Check for duplicate ID\n",
        "    if doctorid in doctors:\n",
        "        print(f\"A doctor with ID '{doctorid}' already exists.\")\n",
        "        return\n",
        "\n",
        "    first_name = input(\"Enter First Name: \").strip()\n",
        "    last_name = input(\"Enter Last Name: \").strip()\n",
        "\n",
        "    doctors[doctorid] = {\n",
        "        \"first_name\": first_name,\n",
        "        \"last_name\": last_name\n",
        "    }\n",
        "\n",
        "\n",
        "input_new_doctor()"
      ],
      "metadata": {
        "id": "a9RratJEgheU"
      },
      "execution_count": null,
      "outputs": []
    },
    {
      "cell_type": "markdown",
      "source": [
        "WIP Function 4: Input New Patient Information - Tatiana\n"
      ],
      "metadata": {
        "id": "GIkmUV_79fd-"
      }
    },
    {
      "cell_type": "code",
      "source": [
        "import re\n",
        "from datetime import datetime\n",
        "\n",
        "def input_new_patient():\n",
        "\n",
        "   \"\"\"\n",
        "    Prompt the user to input a new patient's information, validate inputs, and return a structured dictionary.\n",
        "\n",
        "    The function collects the following inforation:\n",
        "    - Patient ID, First Name, Last Name\n",
        "    - Date of Birth (validated in YYYY-MM-DD format)\n",
        "    - Symptoms (as comma-separated text, parsed into a list)\n",
        "    - Severity of symptoms (must be either mild, moderate, severe)\n",
        "    - Duration of symptoms in days (validated as non-negative integer)\n",
        "    - Allergy information (optional)\n",
        "\n",
        "    Returns:\n",
        "        dict: A dictionary containing all patient information:\n",
        "            {\n",
        "                \"patientid\": str,\n",
        "                \"firstname\": str,\n",
        "                \"lastname\": str,\n",
        "                \"dob\": str,\n",
        "                \"symptom_text\": str,\n",
        "                \"symptoms\": list[str],\n",
        "                \"severity\": str,\n",
        "                \"duration_days\": int,\n",
        "                \"allergies\": list[str]\n",
        "            }\n",
        "    \"\"\"\n",
        "\n",
        "    def validate_date(date_str):\n",
        "        try:\n",
        "            datetime.strptime(date_str, \"%Y-%m-%d\")\n",
        "            return True\n",
        "        except ValueError:\n",
        "            return False\n",
        "\n",
        "    def validate_severity(severity):\n",
        "        return severity.lower() in ['mild', 'moderate', 'severe']\n",
        "\n",
        "    def parse_symptoms(symptom_text):\n",
        "        return [sym.strip() for sym in symptom_text.split(',') if sym.strip()]\n",
        "\n",
        "    patientid = input(\"Input Patient ID (e.g., P001): \").strip()\n",
        "    firstname = input(\"Input First Name: \").strip()\n",
        "    lastname = input(\"Input Last Name: \").strip()\n",
        "\n",
        "    dob = input(\"Input Date of Birth (YYYY-MM-DD): \").strip()\n",
        "    while not validate_date(dob):\n",
        "        dob = input(\"Invalid date format. Please enter DOB (YYYY-MM-DD): \").strip()\n",
        "\n",
        "    symptom_text = input(\"Enter symptoms (comma-separated): \").strip()\n",
        "    symptoms = parse_symptoms(symptom_text)\n",
        "\n",
        "    severity = input(\"Input severity (mild, moderate, severe): \").strip().lower()\n",
        "    while not validate_severity(severity):\n",
        "        severity = input(\"Invalid input. Enter severity (mild, moderate, severe): \").strip().lower()\n",
        "\n",
        "    try:\n",
        "        duration_days = int(input(\"Input number of days symptoms have been present: \").strip())\n",
        "        if duration_days < 0:\n",
        "            raise ValueError\n",
        "    except ValueError:\n",
        "        duration_days = int(input(\"Invalid input. Enter a valid number of days: \").strip())\n",
        "\n",
        "    #check to see if they have allergies before continuing\n",
        "    has_allergies = input(\"Does the patient have any allergies? (yes/no): \").strip().lower()\n",
        "    allergies = []\n",
        "    if has_allergies == 'yes':\n",
        "        allergies_input = input(\"Input allergies (comma-separated): \").strip()\n",
        "        allergies = [a.strip() for a in allergies_input.split(',') if a.strip()]\n",
        "\n",
        "    patient_query = {\n",
        "        \"patientid\": patientid,\n",
        "        \"firstname\": firstname,\n",
        "        \"lastname\": lastname,\n",
        "        \"dob\": dob,\n",
        "        \"symptom_text\": symptom_text,\n",
        "        \"symptoms\": symptoms,\n",
        "        \"severity\": severity,\n",
        "        \"duration_days\": duration_days,\n",
        "        \"allergies\": allergies\n",
        "    }\n",
        "\n",
        "    return patient_query\n"
      ],
      "metadata": {
        "id": "IVuha6QK9lm5"
      },
      "execution_count": null,
      "outputs": []
    },
    {
      "cell_type": "markdown",
      "source": [
        "WIP Function 5: Parsing symptom lists - Andrew"
      ],
      "metadata": {
        "id": "akFaoayk9l-B"
      }
    },
    {
      "cell_type": "code",
      "source": [
        "def parse_symptom_list(symptom_text):\n",
        "    \"\"\"Turn a comma/space separated symptom string into a clean list.\n",
        "\n",
        "    Examples:\n",
        "        >>> parse_symptom_list(\"Sore throat, cough, fever\")\n",
        "        ['sore throat', 'cough', 'fever']\n",
        "        >>> parse_symptom_list(\"headache  nausea\")\n",
        "        ['headache', 'nausea']\n",
        "    \"\"\"\n",
        "    if not isinstance(symptom_text, str):\n",
        "        raise TypeError(\"symptom_text must be a string\")\n",
        "\n",
        "    text = symptom_text.strip().lower()\n",
        "\n",
        "    # Prefer commas if present; otherwise split on spaces.\n",
        "    items = []\n",
        "    if \",\" in text:\n",
        "        parts = text.split(\",\")\n",
        "    else:\n",
        "        parts = text.split(\" \")\n",
        "\n",
        "    # Clean empties and extra spaces\n",
        "    for p in parts:\n",
        "        p = p.strip()\n",
        "        if p != \"\":\n",
        "            items.append(p)\n",
        "\n",
        "    # Merge single words that belong together is out-of-scope here;\n",
        "    # we'll accept simple tokens/phrases as typed.\n",
        "    return items\n",
        "\n",
        "# --- Test parse_symptom_list ---\n",
        "print(\"Testing parse_symptom_list()\")\n",
        "example_input = \"Sore throat, cough, fever\"\n",
        "result = parse_symptom_list(example_input)\n",
        "print(\"Input:\", example_input)\n",
        "print(\"Output:\", result)"
      ],
      "metadata": {
        "colab": {
          "base_uri": "https://localhost:8080/"
        },
        "id": "8C3kcw9d92cy",
        "outputId": "e8219b58-c48d-4e56-96b8-1273707082e4"
      },
      "execution_count": null,
      "outputs": [
        {
          "output_type": "stream",
          "name": "stdout",
          "text": [
            "Testing parse_symptom_list()\n",
            "Input: Sore throat, cough, fever\n",
            "Output: ['sore throat', 'cough', 'fever']\n"
          ]
        }
      ]
    },
    {
      "cell_type": "markdown",
      "source": [
        "WIP Function 6: Building Patient Queries - Andrew\n",
        "\n"
      ],
      "metadata": {
        "id": "s8uZ4obJB5jP"
      }
    },
    {
      "cell_type": "code",
      "source": [
        "def build_patient_query(patientid, firstname, lastname, dob,\n",
        "                        symptom_text, severity, duration_days, allergies):\n",
        "    \"\"\"Create a simple patient query dict for retrieval functions.\n",
        "\n",
        "    Args:\n",
        "        patientid: string id like \"P001\"\n",
        "        firstname, lastname: strings\n",
        "        dob: \"YYYY-MM-DD\" (basic check only; no calendar math)\n",
        "        symptom_text: user input string (we will parse it)\n",
        "        severity: one of \"mild\", \"moderate\", \"severe\"\n",
        "        duration_days: integer number of days since symptoms started\n",
        "        allergies: list of strings (optional; [] if none)\n",
        "\n",
        "    Returns:\n",
        "        A dict with normalized fields and parsed 'symptoms'.\n",
        "\n",
        "    Examples:\n",
        "        >>> q = build_patient_query(\"P1\",\"Ada\",\"Lovelace\",\"2000-01-01\",\n",
        "        ...                         \"cough, fever\", \"moderate\", 2, [\"penicillin\"])\n",
        "        >>> q[\"symptoms\"]\n",
        "        ['cough', 'fever']\n",
        "        >>> q[\"firstname\"], q[\"lastname\"]\n",
        "        ('ada', 'lovelace')\n",
        "    \"\"\"\n",
        "    if not isinstance(patientid, str):\n",
        "        raise TypeError(\"patientid must be a string\")\n",
        "    if not isinstance(firstname, str) or not isinstance(lastname, str):\n",
        "        raise TypeError(\"firstname and lastname must be strings\")\n",
        "    if not isinstance(dob, str):\n",
        "        raise TypeError(\"dob must be a string 'YYYY-MM-DD'\")\n",
        "    if severity not in [\"mild\", \"moderate\", \"severe\"]:\n",
        "        raise ValueError(\"severity must be 'mild', 'moderate', or 'severe'\")\n",
        "    if not (isinstance(duration_days, int) and duration_days >= 0):\n",
        "        raise ValueError(\"duration_days must be an int >= 0\")\n",
        "    if allergies is None:\n",
        "        allergies = []\n",
        "    if not isinstance(allergies, list):\n",
        "        raise TypeError(\"allergies must be a list of strings\")\n",
        "\n",
        "    # normalize names and dob (very light validation)\n",
        "    first = firstname.strip().lower()\n",
        "    last = lastname.strip().lower()\n",
        "    dob_ok = (len(dob.split(\"-\")) == 3 and len(dob) == 10)\n",
        "\n",
        "    # parse symptoms\n",
        "    symptoms = parse_symptom_list(symptom_text)\n",
        "\n",
        "    return {\n",
        "        \"patientid\": patientid.strip(),\n",
        "        \"firstname\": first,\n",
        "        \"lastname\": last,\n",
        "        \"dob\": dob if dob_ok else dob,  # accept as-is; deeper checks can be added later\n",
        "        \"symptoms\": symptoms,\n",
        "        \"severity\": severity,\n",
        "        \"duration_days\": duration_days,\n",
        "        \"allergies\": [a.strip().lower() for a in allergies if isinstance(a, str) and a.strip() != \"\"]\n",
        "    }\n",
        "\n",
        "# --- Test build_patient_query ---\n",
        "print(\"\\nTesting build_patient_query()\")\n",
        "query = build_patient_query(\n",
        "    patientid=\"P001\",\n",
        "    firstname=\"Ada\",\n",
        "    lastname=\"Lovelace\",\n",
        "    dob=\"2000-01-01\",\n",
        "    symptom_text=\"Cough, fever\",\n",
        "    severity=\"moderate\",\n",
        "    duration_days=2,\n",
        "    allergies=[\"Penicillin\"]\n",
        ")\n",
        "print(\"Patient Query Dictionary:\")\n",
        "for key, value in query.items():\n",
        "    print(key, \":\", value)\n"
      ],
      "metadata": {
        "colab": {
          "base_uri": "https://localhost:8080/"
        },
        "id": "4uL23nq-B9i3",
        "outputId": "251721ca-de90-4394-97d2-247475e51a7c"
      },
      "execution_count": null,
      "outputs": [
        {
          "output_type": "stream",
          "name": "stdout",
          "text": [
            "\n",
            "Testing build_patient_query()\n",
            "Patient Query Dictionary:\n",
            "patientid : P001\n",
            "firstname : ada\n",
            "lastname : lovelace\n",
            "dob : 2000-01-01\n",
            "symptoms : ['cough', 'fever']\n",
            "severity : moderate\n",
            "duration_days : 2\n",
            "allergies : ['penicillin']\n"
          ]
        }
      ]
    },
    {
      "cell_type": "markdown",
      "source": [
        "WIP Function 7: Red Flag Alerts \"See a professional signals\" - Andrew"
      ],
      "metadata": {
        "id": "gTp_RejnCAR_"
      }
    },
    {
      "cell_type": "code",
      "source": [
        "def red_flag_alerts(symptoms, duration_days, severity, alerts_rules):\n",
        "    \"\"\"Return a list of red-flag messages based on simple rules.\n",
        "\n",
        "    Args:\n",
        "        symptoms: list of strings (already lowercased ideally)\n",
        "        duration_days: int\n",
        "        severity: 'mild' | 'moderate' | 'severe'\n",
        "        alerts_rules: dict with simple keys we check against, e.g.:\n",
        "            {\n",
        "              \"keywords\": [\"chest pain\", \"shortness of breath\"],\n",
        "              \"long_duration_days\": 3,\n",
        "              \"high_fever_keyword\": \"fever\",\n",
        "              \"high_fever_threshold_days\": 3\n",
        "            }\n",
        "\n",
        "    Returns:\n",
        "        List of alert strings (empty list if none).\n",
        "\n",
        "    Examples:\n",
        "        >>> rules = {\n",
        "        ...   \"keywords\": [\"chest pain\", \"shortness of breath\"],\n",
        "        ...   \"long_duration_days\": 3,\n",
        "        ...   \"high_fever_keyword\": \"fever\",\n",
        "        ...   \"high_fever_threshold_days\": 3\n",
        "        ... }\n",
        "        >>> red_flag_alerts([\"fever\",\"cough\"], 4, \"moderate\", rules)\n",
        "        ['Fever lasting more than 3 days: consider professional evaluation.']\n",
        "    \"\"\"\n",
        "    if not isinstance(symptoms, list):\n",
        "        raise TypeError(\"symptoms must be a list of strings\")\n",
        "    if not (isinstance(duration_days, int) and duration_days >= 0):\n",
        "        raise ValueError(\"duration_days must be an int >= 0\")\n",
        "    if severity not in [\"mild\", \"moderate\", \"severe\"]:\n",
        "        raise ValueError(\"severity must be 'mild', 'moderate', or 'severe'\")\n",
        "    if not isinstance(alerts_rules, dict):\n",
        "        raise TypeError(\"alerts_rules must be a dict\")\n",
        "\n",
        "    # normalize symptoms\n",
        "    s = []\n",
        "    for x in symptoms:\n",
        "        if isinstance(x, str):\n",
        "            x = x.strip().lower()\n",
        "            if x != \"\":\n",
        "                s.append(x)\n",
        "\n",
        "    alerts = []\n",
        "\n",
        "    # keyword-based urgent symptoms\n",
        "    keywords = alerts_rules.get(\"keywords\", [])\n",
        "    for kw in keywords:\n",
        "        if kw in s:\n",
        "            alerts.append(\"Urgent symptom detected: \" + kw + \" — seek medical attention.\")\n",
        "\n",
        "    # long duration check\n",
        "    long_days = alerts_rules.get(\"long_duration_days\", 0)\n",
        "    if long_days > 0 and duration_days > long_days:\n",
        "        alerts.append(\"Symptoms lasting more than \" + str(long_days) + \" days: consider professional evaluation.\")\n",
        "\n",
        "    # persistent fever check\n",
        "    fever_kw = alerts_rules.get(\"high_fever_keyword\", \"\")\n",
        "    fever_days = alerts_rules.get(\"high_fever_threshold_days\", 0)\n",
        "    if fever_kw != \"\" and fever_days > 0 and fever_kw in s and duration_days >= fever_days:\n",
        "        alerts.append(\"Fever lasting more than \" + str(fever_days) + \" days: consider professional evaluation.\")\n",
        "\n",
        "    # severity direct flag\n",
        "    if severity == \"severe\":\n",
        "        alerts.append(\"Severity marked as severe: seek professional care.\")\n",
        "\n",
        "    return alerts\n",
        "\n",
        "# --- Test red_flag_alerts ---\n",
        "print(\"\\nTesting red_flag_alerts()\")\n",
        "rules = {\n",
        "    \"keywords\": [\"chest pain\", \"shortness of breath\"],\n",
        "    \"long_duration_days\": 3,\n",
        "    \"high_fever_keyword\": \"fever\",\n",
        "    \"high_fever_threshold_days\": 3\n",
        "}\n",
        "alerts = red_flag_alerts([\"fever\", \"cough\"], 4, \"moderate\", rules)\n",
        "print(\"Alerts Returned:\")\n",
        "for a in alerts:\n",
        "    print(\"-\", a)\n"
      ],
      "metadata": {
        "colab": {
          "base_uri": "https://localhost:8080/"
        },
        "id": "AiMOOxlFCB7V",
        "outputId": "6b30d8b1-8362-486f-ed3a-cf6f102fadd9"
      },
      "execution_count": null,
      "outputs": [
        {
          "output_type": "stream",
          "name": "stdout",
          "text": [
            "\n",
            "Testing red_flag_alerts()\n",
            "Alerts Returned:\n",
            "- Symptoms lasting more than 3 days: consider professional evaluation.\n",
            "- Fever lasting more than 3 days: consider professional evaluation.\n"
          ]
        }
      ]
    },
    {
      "cell_type": "markdown",
      "source": [
        "WIP Function 8: Ranking Conditions (Main retrieval function - forming 'Knowledge base') - Andrew"
      ],
      "metadata": {
        "id": "JT3CA9KjCCWV"
      }
    },
    {
      "cell_type": "code",
      "source": [
        "def rank_conditions_basic(symptoms, knowledge_base, top_n=5):\n",
        "    \"\"\"Return a ranked list of likely conditions with simple explanations.\n",
        "\n",
        "    Scoring (beginner version):\n",
        "      - overlap = number of symptom matches with the condition's known symptoms\n",
        "      - union   = total unique items considered\n",
        "      - score   = overlap / union\n",
        "      - + small bonus for exact phrase matches (as typed)\n",
        "\n",
        "    Args:\n",
        "        symptoms: list of strings (already lowercased is best)\n",
        "        knowledge_base: dict like\n",
        "            {\n",
        "              \"Influenza\": {\n",
        "                 \"symptoms\": [\"fever\",\"cough\",\"fatigue\",\"sore throat\"],\n",
        "                 \"self_care\": \"rest, fluids, over-the-counter meds\",\n",
        "                 \"seek_care\": \"if fever >3 days or breathing issues\"\n",
        "              },\n",
        "              ...\n",
        "            }\n",
        "        top_n: how many results to return\n",
        "\n",
        "    Returns:\n",
        "        List of dicts:\n",
        "          [\n",
        "            {\n",
        "              \"condition\": \"Influenza\",\n",
        "              \"score\": 0.6,\n",
        "              \"matched\": [\"fever\",\"cough\"],\n",
        "              \"explanation\": \"Matched 2 symptoms out of 5. Extra bonus for exact phrase matches.\"\n",
        "            },\n",
        "            ...\n",
        "          ]\n",
        "\n",
        "    Examples:\n",
        "        >>> kb = {\n",
        "        ...   \"Influenza\": {\"symptoms\": [\"fever\",\"cough\",\"fatigue\"]},\n",
        "        ...   \"Migraine\": {\"symptoms\": [\"headache\",\"nausea\"]}\n",
        "        ... }\n",
        "        >>> out = rank_conditions_basic([\"fever\",\"cough\"], kb, top_n=2)\n",
        "        >>> out[0][\"condition\"] in [\"Influenza\", \"Migraine\"]\n",
        "        True\n",
        "    \"\"\"\n",
        "    if not isinstance(symptoms, list):\n",
        "        raise TypeError(\"symptoms must be a list\")\n",
        "    if not isinstance(knowledge_base, dict):\n",
        "        raise TypeError(\"knowledge_base must be a dict\")\n",
        "    if not (isinstance(top_n, int) and top_n >= 1):\n",
        "        raise ValueError(\"top_n must be an int >= 1\")\n",
        "\n",
        "    # normalize symptoms\n",
        "    s = []\n",
        "    for x in symptoms:\n",
        "        if isinstance(x, str):\n",
        "            x = x.strip().lower()\n",
        "            if x != \"\":\n",
        "                s.append(x)\n",
        "\n",
        "    results = []\n",
        "\n",
        "    for condition in knowledge_base:\n",
        "        info = knowledge_base[condition]\n",
        "        kb_symptoms = info.get(\"symptoms\", [])\n",
        "\n",
        "        # normalize kb symptoms\n",
        "        canon = []\n",
        "        for y in kb_symptoms:\n",
        "            if isinstance(y, str):\n",
        "                y = y.strip().lower()\n",
        "                if y != \"\":\n",
        "                    canon.append(y)\n",
        "\n",
        "        # build unique lists (beginner style)\n",
        "        unique_s = []\n",
        "        for item in s:\n",
        "            if item not in unique_s:\n",
        "                unique_s.append(item)\n",
        "\n",
        "        unique_canon = []\n",
        "        for item in canon:\n",
        "            if item not in unique_canon:\n",
        "                unique_canon.append(item)\n",
        "\n",
        "        # compute overlap\n",
        "        matched = []\n",
        "        for item in unique_s:\n",
        "            if item in unique_canon:\n",
        "                matched.append(item)\n",
        "\n",
        "        # union count\n",
        "        union_list = unique_s[:]\n",
        "        for item in unique_canon:\n",
        "            if item not in union_list:\n",
        "                union_list.append(item)\n",
        "        union_count = len(union_list)\n",
        "\n",
        "        if union_count == 0:\n",
        "            base = 0.0\n",
        "        else:\n",
        "            base = float(len(matched)) / float(union_count)\n",
        "\n",
        "        # tiny phrase bonus for each original symptom that appears exactly in canon\n",
        "        bonus_count = 0\n",
        "        for ph in s:\n",
        "            if ph in canon:\n",
        "                bonus_count += 1\n",
        "        score = base + 0.05 * bonus_count\n",
        "\n",
        "        # craft a simple explanation\n",
        "        exp = \"Matched \" + str(len(matched)) + \" symptoms out of \" + str(len(canon)) + \".\"\n",
        "        if bonus_count > 0:\n",
        "            exp += \" Extra bonus for exact phrase matches.\"\n",
        "\n",
        "        results.append({\n",
        "            \"condition\": condition,\n",
        "            \"score\": float(score),\n",
        "            \"matched\": matched,\n",
        "            \"explanation\": exp\n",
        "        })\n",
        "\n",
        "    # sort by score descending\n",
        "    results = sorted(results, key=lambda d: d[\"score\"], reverse=True)\n",
        "\n",
        "    # take top_n\n",
        "    if len(results) > top_n:\n",
        "        results = results[:top_n]\n",
        "\n",
        "    return results\n",
        "\n",
        "# --- Test rank_conditions_basic ---\n",
        "print(\"\\nTesting rank_conditions_basic()\")\n",
        "kb = {\n",
        "    \"Influenza\": {\n",
        "        \"symptoms\": [\"fever\", \"cough\", \"fatigue\", \"sore throat\"],\n",
        "        \"self_care\": \"Rest, drink fluids, and monitor temperature.\",\n",
        "        \"seek_care\": \"If fever lasts >3 days or breathing problems occur.\"\n",
        "    },\n",
        "    \"Common Cold\": {\n",
        "        \"symptoms\": [\"cough\", \"sore throat\", \"congestion\"],\n",
        "        \"self_care\": \"Stay hydrated and rest.\",\n",
        "        \"seek_care\": \"If symptoms worsen after a week.\"\n",
        "    },\n",
        "    \"Migraine\": {\n",
        "        \"symptoms\": [\"headache\", \"nausea\", \"light sensitivity\"],\n",
        "        \"self_care\": \"Rest in dark room; avoid triggers.\"\n",
        "    }\n",
        "}\n",
        "\n",
        "symptoms = [\"cough\", \"fever\"]\n",
        "ranked = rank_conditions_basic(symptoms, kb, top_n=3)\n",
        "\n",
        "print(\"Ranked Conditions:\")\n",
        "for item in ranked:\n",
        "    print(item[\"condition\"], \"- Score:\", round(item[\"score\"], 2))\n",
        "    print(\"  Matched:\", item[\"matched\"])\n",
        "    print(\"  Explanation:\", item[\"explanation\"])\n",
        "    print()\n"
      ],
      "metadata": {
        "colab": {
          "base_uri": "https://localhost:8080/"
        },
        "id": "3yc2lvnGCjoY",
        "outputId": "2b82028e-a5d7-4c09-ed80-bcc4fc4a9c32"
      },
      "execution_count": null,
      "outputs": [
        {
          "output_type": "stream",
          "name": "stdout",
          "text": [
            "\n",
            "Testing rank_conditions_basic()\n",
            "Ranked Conditions:\n",
            "Influenza - Score: 0.6\n",
            "  Matched: ['cough', 'fever']\n",
            "  Explanation: Matched 2 symptoms out of 4. Extra bonus for exact phrase matches.\n",
            "\n",
            "Common Cold - Score: 0.3\n",
            "  Matched: ['cough']\n",
            "  Explanation: Matched 1 symptoms out of 3. Extra bonus for exact phrase matches.\n",
            "\n",
            "Migraine - Score: 0.0\n",
            "  Matched: []\n",
            "  Explanation: Matched 0 symptoms out of 3.\n",
            "\n"
          ]
        }
      ]
    },
    {
      "cell_type": "markdown",
      "source": [
        "WIP Function 9: Top 10 ranked searches - Chimezia"
      ],
      "metadata": {
        "id": "S_BSsZHrQpQr"
      }
    },
    {
      "cell_type": "code",
      "source": [
        "from collections import Counter\n",
        "\n",
        "def top_ranked_searches(logs, top_n=10):\n",
        "    \"\"\"Return the top N most common symptom searches from patient logs.\n",
        "\n",
        "    Args:\n",
        "        logs: list of patient query dicts (each from build_patient_query)\n",
        "        top_n: number of top searches to return\n",
        "\n",
        "    Returns:\n",
        "        List of (symptom_combo, count) tuples ranked by frequency.\n",
        "    \"\"\"\n",
        "    if not logs or not isinstance(logs, list):\n",
        "        raise ValueError(\"logs must be a non-empty list of patient query dictionaries\")\n",
        "\n",
        "    # Count occurrences of symptom combinations\n",
        "    symptom_counts = Counter()\n",
        "\n",
        "    for entry in logs:\n",
        "        symptoms = entry.get(\"symptoms\", [])\n",
        "        if symptoms:\n",
        "            # Normalize combo to tuple (sorted to avoid order issues)\n",
        "            combo = tuple(sorted(symptoms))\n",
        "            symptom_counts[combo] += 1\n",
        "\n",
        "    # Get top N\n",
        "    return symptom_counts.most_common(top_n)\n",
        "\n",
        "\n",
        "# --- Example Patient Logs ---\n",
        "log_searches = [\n",
        "    build_patient_query(\"P001\", \"Ada\", \"Lovelace\", \"2000-01-01\", \"cough, fever\", \"moderate\", 2, [\"penicillin\"]),\n",
        "    build_patient_query(\"P002\", \"Alan\", \"Turing\", \"1912-06-23\", \"headache, nausea\", \"mild\", 1, []),\n",
        "    build_patient_query(\"P003\", \"Grace\", \"Hopper\", \"1906-12-09\", \"cough, fever\", \"severe\", 4, []),\n",
        "    build_patient_query(\"P004\", \"Marie\", \"Curie\", \"1867-11-07\", \"sore throat, cough\", \"moderate\", 3, []),\n",
        "    build_patient_query(\"P005\", \"Charles\", \"Babbage\", \"1791-12-26\", \"cough, fever\", \"mild\", 1, []),\n",
        "    build_patient_query(\"P006\", \"Rosalind\", \"Franklin\", \"1920-07-25\", \"fatigue, fever\", \"moderate\", 2, [])\n",
        "]\n",
        "\n",
        "# --- Run Ranking ---\n",
        "top = top_ranked_searches(log_searches, top_n=3)\n",
        "print(\"\\nTop Ranked Searches:\")\n",
        "for combo, count in top:\n",
        "    print(f\"{', '.join(combo)} → {count} searches\")\n"
      ],
      "metadata": {
        "id": "sub2t18tQ4rl"
      },
      "execution_count": null,
      "outputs": []
    },
    {
      "cell_type": "markdown",
      "source": [
        "WIP Function 10: Year Extracter - Chimezia"
      ],
      "metadata": {
        "id": "NpWHENS-T5eE"
      }
    },
    {
      "cell_type": "code",
      "source": [
        "import re\n",
        "from datetime import datetime\n",
        "# Year extracter\n",
        "def extract_year(value: str | int) -> int | None:\n",
        "    \"\"\"Extract a 4-digit year from text, token, or numeric input.\n",
        "\n",
        "    Works with:\n",
        "      - \"year:2024\"\n",
        "      - \"Year=2024\"\n",
        "      - \"DOB:2000-01-01\"\n",
        "      - 2024 (int)\n",
        "\n",
        "    Examples:\n",
        "        >>> extract_year(\"year:2024\")\n",
        "        2024\n",
        "        >>> extract_year(\"2000-01-01\")\n",
        "        2000\n",
        "        >>> extract_year(2022)\n",
        "        2022\n",
        "        >>> extract_year(\"abc\")\n",
        "        None\n",
        "    \"\"\"\n",
        "    if isinstance(value, int):\n",
        "        return value if 1800 <= value <= datetime.now().year else None\n",
        "\n",
        "    if not isinstance(value, str):\n",
        "        return None\n",
        "\n",
        "    # Try to find any 4-digit year in the string\n",
        "    match = re.search(r\"(19|20)\\d{2}\", value)\n",
        "    return int(match.group()) if match else None\n",
        "\n"
      ],
      "metadata": {
        "id": "KaIf_ghaUB6I"
      },
      "execution_count": null,
      "outputs": []
    },
    {
      "cell_type": "markdown",
      "source": [
        "WIP Function 11: Allergen Notice - Chimezia"
      ],
      "metadata": {
        "id": "3oaMx-Fa4DRn"
      }
    },
    {
      "cell_type": "code",
      "source": [
        "def has_allergy_conflict(allergies, medication_list):\n",
        "    \"\"\"Return True if any allergy conflicts with a medication name.\n",
        "\n",
        "    The check is case-insensitive and partial — so 'penicillin' will\n",
        "    match related medications like 'amoxicillin' or 'ampicillin'.\n",
        "\n",
        "    Args:\n",
        "        allergies: list of strings (known patient allergies)\n",
        "        medication_list: list of medication names\n",
        "\n",
        "    Returns:\n",
        "        bool: True if a likely conflict exists, else False\n",
        "    \"\"\"\n",
        "    allergies = [a.lower() for a in allergies]\n",
        "    meds = [m.lower() for m in medication_list]\n",
        "    for allergy in allergies:\n",
        "        for med in meds:\n",
        "            # Allow fuzzy partial matching for common suffixes/prefixes\n",
        "            if allergy in med or med.startswith(allergy[:4]) or med.endswith(allergy[-4:]):\n",
        "                return True\n",
        "    return False\n",
        "\n",
        "\n",
        "print(has_allergy_conflict([\"penicillin\"], [\"amoxicillin\", \"ibuprofen\"]))  # True ✅\n",
        "print(has_allergy_conflict([\"sulfa\"], [\"sulfamethoxazole\"]))              # True ✅\n",
        "print(has_allergy_conflict([\"latex\"], [\"acetaminophen\"]))                 # False ✅\n"
      ],
      "metadata": {
        "colab": {
          "base_uri": "https://localhost:8080/"
        },
        "id": "Z4VToPsI4H0R",
        "outputId": "1ec36b62-4db1-4131-d5df-26e928a68885"
      },
      "execution_count": null,
      "outputs": [
        {
          "output_type": "stream",
          "name": "stdout",
          "text": [
            "True\n",
            "True\n",
            "False\n"
          ]
        }
      ]
    },
    {
      "cell_type": "markdown",
      "source": [
        "WIP Function 12: Counting symptoms - Chimezia"
      ],
      "metadata": {
        "id": "FqTEbvln4uNI"
      }
    },
    {
      "cell_type": "code",
      "source": [
        "def count_symptoms(symptoms):\n",
        "    \"\"\"Return the number of symptoms in the list.\"\"\"\n",
        "    if not isinstance(symptoms, list):\n",
        "        raise TypeError(\"symptoms must be a list\")\n",
        "    return len(symptoms)\n",
        "\n",
        "print(count_symptoms([\"fever\", \"cough\", \"sore throat\"]))\n",
        "# -> 3\n"
      ],
      "metadata": {
        "colab": {
          "base_uri": "https://localhost:8080/"
        },
        "id": "eTk_boHe5EaN",
        "outputId": "45e7fd54-4478-4324-f207-c5c87754344c"
      },
      "execution_count": null,
      "outputs": [
        {
          "output_type": "stream",
          "name": "stdout",
          "text": [
            "3\n"
          ]
        }
      ]
    },
    {
      "cell_type": "markdown",
      "source": [
        "WIP Function 13: Searching Patient Records (records, keyword)"
      ],
      "metadata": {
        "id": "wHEkoa1RY31O"
      }
    },
    {
      "cell_type": "code",
      "source": [
        "def search_patient_records(records, keyword):\n",
        "    \"\"\"Search patient records for a keyword (beginner version).\n",
        "\n",
        "    Args:\n",
        "        records: list of dictionaries\n",
        "        keyword: string word to search for\n",
        "\n",
        "    Returns:\n",
        "        list of matching records\n",
        "    \"\"\"\n",
        "    if type(records) != list:\n",
        "        print(\"Records must be a list.\")\n",
        "        return []\n",
        "    if type(keyword) != str:\n",
        "        print(\"Keyword must be a string.\")\n",
        "        return []\n",
        "\n",
        "    matches = []\n",
        "    for record in records:\n",
        "        # convert everything to string just in case\n",
        "        text = \"\"\n",
        "        for key in record:\n",
        "            text = text + str(record[key]).lower() + \" \"\n",
        "        if keyword.lower() in text:\n",
        "            matches.append(record)\n",
        "\n",
        "    return matches\n",
        "\n",
        "\n",
        "# --- Example Test ---\n",
        "records = [\n",
        "    {\"firstname\": \"Ada\", \"lastname\": \"Lovelace\", \"notes\": \"Fever and cough\"},\n",
        "    {\"firstname\": \"Alan\", \"lastname\": \"Turing\", \"notes\": \"Headache and fatigue\"}\n",
        "]\n",
        "print(search_patient_records(records, \"fever\"))\n"
      ],
      "metadata": {
        "colab": {
          "base_uri": "https://localhost:8080/"
        },
        "id": "WZpBxfEPZP5T",
        "outputId": "b9c5c5a5-9ead-4671-a3e9-1701852b9c32"
      },
      "execution_count": null,
      "outputs": [
        {
          "output_type": "stream",
          "name": "stdout",
          "text": [
            "[{'firstname': 'Ada', 'lastname': 'Lovelace', 'notes': 'Fever and cough'}]\n"
          ]
        }
      ]
    },
    {
      "cell_type": "markdown",
      "source": [
        "WIP Function 14: Summarizing Coniditon Stats"
      ],
      "metadata": {
        "id": "quGAHmzxZd0u"
      }
    },
    {
      "cell_type": "code",
      "source": [
        "def summarize_condition_stats(conditions):\n",
        "    \"\"\"Count how many times each condition appears (beginner version).\"\"\"\n",
        "    if type(conditions) != list:\n",
        "        print(\"Conditions must be a list.\")\n",
        "        return {}\n",
        "\n",
        "    stats = {}\n",
        "    for c in conditions:\n",
        "        c = str(c).lower()\n",
        "        if c in stats:\n",
        "            stats[c] = stats[c] + 1\n",
        "        else:\n",
        "            stats[c] = 1\n",
        "\n",
        "    return stats\n",
        "\n",
        "\n",
        "# --- Example Test ---\n",
        "conditions = [\"flu\", \"cold\", \"flu\", \"asthma\", \"flu\"]\n",
        "print(summarize_condition_stats(conditions))"
      ],
      "metadata": {
        "colab": {
          "base_uri": "https://localhost:8080/"
        },
        "id": "WTixBrofZmen",
        "outputId": "89dd54ac-6d67-47a2-c026-34b0830297d7"
      },
      "execution_count": null,
      "outputs": [
        {
          "output_type": "stream",
          "name": "stdout",
          "text": [
            "{'flu': 3, 'cold': 1, 'asthma': 1}\n"
          ]
        }
      ]
    },
    {
      "cell_type": "markdown",
      "source": [
        "WIP Function 15: Generating Patient Summary"
      ],
      "metadata": {
        "id": "aaxAQvueZo74"
      }
    },
    {
      "cell_type": "code",
      "source": [
        "def generate_patient_summary(patient):\n",
        "    \"\"\"Create a short summary of patient info.\"\"\"\n",
        "    if type(patient) != dict:\n",
        "        print(\"Patient must be a dictionary.\")\n",
        "        return \"\"\n",
        "\n",
        "    first = str(patient.get(\"firstname\", \"\")).capitalize()\n",
        "    last = str(patient.get(\"lastname\", \"\")).capitalize()\n",
        "    dob = str(patient.get(\"dob\", \"unknown\"))\n",
        "    symptoms = patient.get(\"symptoms\", [])\n",
        "\n",
        "    if type(symptoms) == list:\n",
        "        sym_text = \", \".join(symptoms)\n",
        "    else:\n",
        "        sym_text = str(symptoms)\n",
        "\n",
        "    summary = first + \" \" + last + \" (DOB: \" + dob + \") - Symptoms: \" + sym_text\n",
        "    return summary\n",
        "\n",
        "\n",
        "# --- Example Test ---\n",
        "p = {\"firstname\": \"ada\", \"lastname\": \"lovelace\", \"dob\": \"2000-01-01\", \"symptoms\": [\"fever\", \"cough\"]}\n",
        "print(generate_patient_summary(p))\n"
      ],
      "metadata": {
        "colab": {
          "base_uri": "https://localhost:8080/"
        },
        "id": "IDc4np1oZtd2",
        "outputId": "8e5210a9-0b1e-4b9c-8381-83809dd78bff"
      },
      "execution_count": null,
      "outputs": [
        {
          "output_type": "stream",
          "name": "stdout",
          "text": [
            "Ada Lovelace (DOB: 2000-01-01) - Symptoms: fever, cough\n"
          ]
        }
      ]
    },
    {
      "cell_type": "markdown",
      "source": [
        "WIP Function 16: Logging Search Activity"
      ],
      "metadata": {
        "id": "yY0ajSbhZw5_"
      }
    },
    {
      "cell_type": "code",
      "source": [
        "def log_search_activity(log_list, query):\n",
        "    \"\"\"Add a new search to the log list.\"\"\"\n",
        "    if type(log_list) != list:\n",
        "        print(\"Log list must be a list.\")\n",
        "        return log_list\n",
        "    if type(query) != str:\n",
        "        print(\"Query must be a string.\")\n",
        "        return log_list\n",
        "\n",
        "    clean = query.strip().lower()\n",
        "    if clean != \"\":\n",
        "        log_list.append(clean)\n",
        "    return log_list\n",
        "\n",
        "\n",
        "# --- Example Test ---\n",
        "log = [\"fever\", \"cold\"]\n",
        "log = log_search_activity(log, \"cough\")\n",
        "print(log)\n"
      ],
      "metadata": {
        "colab": {
          "base_uri": "https://localhost:8080/"
        },
        "id": "Ka3fUDu_Z3AI",
        "outputId": "acbd249e-5303-4f00-82ba-2f37a9ca4dcf"
      },
      "execution_count": null,
      "outputs": [
        {
          "output_type": "stream",
          "name": "stdout",
          "text": [
            "['fever', 'cold', 'cough']\n"
          ]
        }
      ]
    },
    {
      "cell_type": "markdown",
      "source": [
        "WIP 17 Calculate Body Mass Index (BMI) and return both the value and a category. - Darren"
      ],
      "metadata": {
        "id": "K7Q1-uTqd7P5"
      }
    },
    {
      "cell_type": "code",
      "source": [],
      "metadata": {
        "id": "bZ-lYWc5eWPF"
      },
      "execution_count": null,
      "outputs": []
    },
    {
      "cell_type": "code",
      "source": [
        "def bmi_calculator(weight_kg, height_m):\n",
        "\n",
        "    if height_m <= 0 or weight_kg <= 0:\n",
        "        raise ValueError(\"Height and weight must be positive numbers.\")\n",
        "    bmi = weight_kg / (height_m ** 2)\n",
        "    if bmi < 18.5:\n",
        "        category = \"Underweight\"\n",
        "    elif bmi < 25:\n",
        "        category = \"Normal weight\"\n",
        "    elif bmi < 30:\n",
        "        category = \"Overweight\"\n",
        "    else:\n",
        "        category = \"Obese\"\n",
        "    return round(bmi, 1), category\n",
        "\n"
      ],
      "metadata": {
        "id": "mg32gM_td2qw"
      },
      "execution_count": null,
      "outputs": []
    },
    {
      "cell_type": "markdown",
      "source": [
        "WIP 18 Create a readable one-line summary for a patient's record.- Darren"
      ],
      "metadata": {
        "id": "AmShW7PxeFmc"
      }
    },
    {
      "cell_type": "code",
      "source": [],
      "metadata": {
        "id": "2L3OknOKemuH"
      },
      "execution_count": null,
      "outputs": []
    },
    {
      "cell_type": "code",
      "source": [
        "\n",
        "def patient_summary(patient_dict):\n",
        "\n",
        "    try:\n",
        "        return (f\"{patient_dict['firstname'].title()} {patient_dict['lastname'].title()} \"\n",
        "                f\"({patient_dict['patientid']}) - Severity: {patient_dict['severity'].capitalize()}, \"\n",
        "                f\"Symptoms: {', '.join(patient_dict['symptoms'])}\")\n",
        "    except KeyError:\n",
        "        raise ValueError(\"Invalid patient dictionary format.\")\n",
        "\n",
        "\n"
      ],
      "metadata": {
        "id": "0UzdI5-0d_wY"
      },
      "execution_count": null,
      "outputs": []
    },
    {
      "cell_type": "markdown",
      "source": [
        " Calculate the average duration (in days) of symptoms from a list of patient logs.- Darren"
      ],
      "metadata": {
        "id": "F8jS2zCHetL-"
      }
    },
    {
      "cell_type": "code",
      "source": [
        "def average_symptom_duration(patient_logs):\n",
        "\n",
        "    durations = [p['duration_days'] for p in patient_logs if 'duration_days' in p]\n",
        "    if not durations:\n",
        "        return 0\n",
        "    return sum(durations) / len(durations)\n"
      ],
      "metadata": {
        "id": "uwOtyV5eeoKM"
      },
      "execution_count": null,
      "outputs": []
    },
    {
      "cell_type": "markdown",
      "source": [
        " Return a message if the patient has allergies, otherwise a default message.- Darren"
      ],
      "metadata": {
        "id": "03BCeLH0e2Ze"
      }
    },
    {
      "cell_type": "code",
      "source": [
        "def allergy_alert(patient_dict):\n",
        "\n",
        "    allergies = patient_dict.get('allergies', [])\n",
        "    if allergies:\n",
        "        return f\"⚠️ Allergy Alert: {', '.join(allergies)}\"\n",
        "    else:\n",
        "        return \"No known allergies.\"\n",
        "\n"
      ],
      "metadata": {
        "id": "bc2iGhLCeyAB"
      },
      "execution_count": null,
      "outputs": []
    }
  ]
}